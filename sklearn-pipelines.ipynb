{
 "cells": [
  {
   "cell_type": "markdown",
   "id": "55fb7d8d-8749-4277-b2d4-db5c75c83619",
   "metadata": {},
   "source": [
    "![pipes.png](https://imgshare.io/images/2021/12/27/pipes.png)"
   ]
  },
  {
   "cell_type": "markdown",
   "id": "b0f86f0a-5a64-4198-adc4-86e320649619",
   "metadata": {},
   "source": [
    "# Sklearn pipelines for dummies "
   ]
  },
  {
   "cell_type": "markdown",
   "id": "e987e48c-5bcc-41fa-9ac2-1170207f7e6e",
   "metadata": {},
   "source": [
    "###  Taxonomy"
   ]
  },
  {
   "cell_type": "markdown",
   "id": "5c72cccb-b95e-432d-88ae-46c584d898ae",
   "metadata": {},
   "source": [
    "#### Estimators"
   ]
  },
  {
   "cell_type": "markdown",
   "id": "ad2bb16a-25f2-4962-bfd6-fb078dc89a7c",
   "metadata": {},
   "source": [
    "#### Transformers"
   ]
  },
  {
   "cell_type": "markdown",
   "id": "3656eb44-e09f-4b66-af47-6e7ec4ba9310",
   "metadata": {},
   "source": [
    "###  Operations - what they do"
   ]
  },
  {
   "cell_type": "markdown",
   "id": "4b6c4b6d-7b83-4b41-8c7f-e4402a17fe14",
   "metadata": {},
   "source": [
    "#### Fit"
   ]
  },
  {
   "cell_type": "markdown",
   "id": "fc8efd3e-bb24-4dee-8a11-159bc079b57b",
   "metadata": {},
   "source": [
    "#### Tranform"
   ]
  },
  {
   "cell_type": "markdown",
   "id": "195552e1-089f-4982-9fc8-f5416f240f3c",
   "metadata": {},
   "source": [
    "#### Fit-transform"
   ]
  },
  {
   "cell_type": "markdown",
   "id": "957a9b98-73fd-4ac6-b177-fc9a5285f88b",
   "metadata": {},
   "source": [
    "#### Predict"
   ]
  },
  {
   "cell_type": "markdown",
   "id": "b18a07d6-23f2-4fdc-86c8-24eb42a97e50",
   "metadata": {},
   "source": [
    "### X and y"
   ]
  },
  {
   "cell_type": "markdown",
   "id": "894d05ae-352d-4ca6-9b3e-27c77d672711",
   "metadata": {},
   "source": [
    "#### What acts on X and what on y?"
   ]
  },
  {
   "cell_type": "markdown",
   "id": "d348e09d-fde0-43b5-83bf-35dd464edbd7",
   "metadata": {},
   "source": [
    "### How to create your own transformer/estimator?"
   ]
  },
  {
   "cell_type": "code",
   "execution_count": null,
   "id": "ff42abdc-bc16-483a-b94a-7a23b0fe858c",
   "metadata": {},
   "outputs": [],
   "source": []
  }
 ],
 "metadata": {
  "kernelspec": {
   "display_name": "Python 3 (ipykernel)",
   "language": "python",
   "name": "python3"
  },
  "language_info": {
   "codemirror_mode": {
    "name": "ipython",
    "version": 3
   },
   "file_extension": ".py",
   "mimetype": "text/x-python",
   "name": "python",
   "nbconvert_exporter": "python",
   "pygments_lexer": "ipython3",
   "version": "3.8.12"
  }
 },
 "nbformat": 4,
 "nbformat_minor": 5
}
