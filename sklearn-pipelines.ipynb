{
 "cells": [
  {
   "cell_type": "markdown",
   "id": "55fb7d8d-8749-4277-b2d4-db5c75c83619",
   "metadata": {},
   "source": [
    "![pipes.png](https://imgshare.io/images/2021/12/27/pipes.png)"
   ]
  },
  {
   "cell_type": "markdown",
   "id": "b0f86f0a-5a64-4198-adc4-86e320649619",
   "metadata": {},
   "source": [
    "# Sklearn pipelines for dummies "
   ]
  },
  {
   "cell_type": "markdown",
   "id": "e987e48c-5bcc-41fa-9ac2-1170207f7e6e",
   "metadata": {},
   "source": [
    "###  Taxonomy"
   ]
  },
  {
   "cell_type": "markdown",
   "id": "5c72cccb-b95e-432d-88ae-46c584d898ae",
   "metadata": {},
   "source": [
    "#### Estimators"
   ]
  },
  {
   "cell_type": "markdown",
   "id": "ad2bb16a-25f2-4962-bfd6-fb078dc89a7c",
   "metadata": {},
   "source": [
    "#### Transformers"
   ]
  },
  {
   "cell_type": "code",
   "execution_count": null,
   "id": "65e0ef18-3a5b-4779-bc5c-4e14d3e9fb94",
   "metadata": {},
   "outputs": [],
   "source": []
  }
 ],
 "metadata": {
  "kernelspec": {
   "display_name": "Python 3 (ipykernel)",
   "language": "python",
   "name": "python3"
  },
  "language_info": {
   "codemirror_mode": {
    "name": "ipython",
    "version": 3
   },
   "file_extension": ".py",
   "mimetype": "text/x-python",
   "name": "python",
   "nbconvert_exporter": "python",
   "pygments_lexer": "ipython3",
   "version": "3.8.12"
  }
 },
 "nbformat": 4,
 "nbformat_minor": 5
}
