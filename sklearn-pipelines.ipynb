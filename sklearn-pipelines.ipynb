{
 "cells": [
  {
   "cell_type": "markdown",
   "id": "55fb7d8d-8749-4277-b2d4-db5c75c83619",
   "metadata": {},
   "source": [
    "![pipes](https://imgshare.io/images/2021/12/27/pipes.png)"
   ]
  },
  {
   "cell_type": "markdown",
   "id": "b0f86f0a-5a64-4198-adc4-86e320649619",
   "metadata": {},
   "source": [
    "# Sklearn pipelines for dummies "
   ]
  },
  {
   "cell_type": "markdown",
   "id": "e987e48c-5bcc-41fa-9ac2-1170207f7e6e",
   "metadata": {},
   "source": [
    "###  Taxonomy\n",
    "#### Estimators\n",
    "Have **predict** method: X->y\n",
    "#### Transformers\n",
    "Have **fit, transform, (fit-transform)** methods: X,(y)->X',(y')"
   ]
  },
  {
   "cell_type": "markdown",
   "id": "1f121449-4da5-4dc8-b5b6-68ece4ea2d35",
   "metadata": {},
   "source": [
    "##### FunctionTranformer\n",
    "Creates a transformer with **fit and transform** methods from a function: f->T"
   ]
  },
  {
   "cell_type": "markdown",
   "id": "84ceceb1-1363-4a18-aa15-d4906aa34f3b",
   "metadata": {},
   "source": [
    "##### FeatureUnion\n",
    "Allows to join results of several transformers in one dataset:  \n",
    "T1(X,(y), T2(X,(y))->X',(y')"
   ]
  },
  {
   "cell_type": "markdown",
   "id": "b1be0a1c-1db0-4f0a-95eb-76da5801085b",
   "metadata": {},
   "source": [
    "##### ColumnTransformer\n",
    "Allows to operate on a chosen set of data columns:  \n",
    "data(col1, col2,...coln)->data(col1, col2, T(colp),...T(colq),... coln)\n",
    "passthrough option?"
   ]
  },
  {
   "cell_type": "markdown",
   "id": "ec814d11-39ae-4dcb-b308-e42f9c5f63f8",
   "metadata": {},
   "source": [
    "##### Column selector\n",
    "data(col1, col2,...coln)->data(colp,colq)"
   ]
  },
  {
   "cell_type": "markdown",
   "id": "3656eb44-e09f-4b66-af47-6e7ec4ba9310",
   "metadata": {},
   "source": [
    "###  Operations - what they do"
   ]
  },
  {
   "cell_type": "markdown",
   "id": "bafa9e5e-6ef8-4cb2-8670-d2104d6fc1d0",
   "metadata": {},
   "source": [
    "What is the difference between **fit, transform and fit-transform**? Answers:  \n",
    "- https://towardsdatascience.com/what-and-why-behind-fit-transform-vs-transform-in-scikit-learn-78f915cf96fe#:~:text=The%20fit%20method%20is%20calculating,the%20respective%20mean%20and%20variance\n",
    "- https://coderoad.ru/23838056/%D0%B2-%D1%87%D0%B5%D0%BC-%D1%80%D0%B0%D0%B7%D0%BD%D0%B8%D1%86%D0%B0-%D0%BC%D0%B5%D0%B6%D0%B4%D1%83-transform-%D0%B8-fit_transform-%D0%B2-sklearn  \n",
    "\n",
    "In short, **fit** finds parameters of X transformation. After that, you can apply **transform** method to X (and y, if you need to). Both can be performed in one step with **fit-transform**."
   ]
  },
  {
   "cell_type": "markdown",
   "id": "f62272f2-5248-4a63-a699-d4b28042cf66",
   "metadata": {},
   "source": [
    "![PiaIX.png](https://imgshare.io/images/2021/12/29/PiaIX.png)"
   ]
  },
  {
   "cell_type": "markdown",
   "id": "4b6c4b6d-7b83-4b41-8c7f-e4402a17fe14",
   "metadata": {},
   "source": [
    "#### Fit"
   ]
  },
  {
   "cell_type": "markdown",
   "id": "fc8efd3e-bb24-4dee-8a11-159bc079b57b",
   "metadata": {},
   "source": [
    "#### Tranform"
   ]
  },
  {
   "cell_type": "markdown",
   "id": "195552e1-089f-4982-9fc8-f5416f240f3c",
   "metadata": {},
   "source": [
    "#### Fit-transform"
   ]
  },
  {
   "cell_type": "markdown",
   "id": "957a9b98-73fd-4ac6-b177-fc9a5285f88b",
   "metadata": {},
   "source": [
    "#### Predict"
   ]
  },
  {
   "cell_type": "markdown",
   "id": "b18a07d6-23f2-4fdc-86c8-24eb42a97e50",
   "metadata": {},
   "source": [
    "### X and y"
   ]
  },
  {
   "cell_type": "markdown",
   "id": "894d05ae-352d-4ca6-9b3e-27c77d672711",
   "metadata": {},
   "source": [
    "#### What acts on X and what on y?"
   ]
  },
  {
   "cell_type": "markdown",
   "id": "d348e09d-fde0-43b5-83bf-35dd464edbd7",
   "metadata": {},
   "source": [
    "### How to create your own transformer/estimator?"
   ]
  },
  {
   "cell_type": "code",
   "execution_count": null,
   "id": "ff42abdc-bc16-483a-b94a-7a23b0fe858c",
   "metadata": {},
   "outputs": [],
   "source": []
  }
 ],
 "metadata": {
  "kernelspec": {
   "display_name": "Python 3 (ipykernel)",
   "language": "python",
   "name": "python3"
  },
  "language_info": {
   "codemirror_mode": {
    "name": "ipython",
    "version": 3
   },
   "file_extension": ".py",
   "mimetype": "text/x-python",
   "name": "python",
   "nbconvert_exporter": "python",
   "pygments_lexer": "ipython3",
   "version": "3.9.7"
  }
 },
 "nbformat": 4,
 "nbformat_minor": 5
}
